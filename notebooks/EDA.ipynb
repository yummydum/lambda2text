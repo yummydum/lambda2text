{
 "cells": [
  {
   "cell_type": "code",
   "execution_count": 1,
   "metadata": {},
   "outputs": [],
   "source": [
    "import csv\n",
    "import matplotlib.pyplot as plt\n",
    "from config import DATA_DIR\n",
    "data_dir = DATA_DIR / 'pairs/mnli.tsv'"
   ]
  },
  {
   "cell_type": "code",
   "execution_count": 2,
   "metadata": {},
   "outputs": [],
   "source": [
    "def get_depth(formal):\n",
    "    depth_list = []\n",
    "    current_depth = 0\n",
    "    for t in formal:\n",
    "        if t =='(':\n",
    "            current_depth+=1\n",
    "        elif t == ')':\n",
    "            current_depth-=1\n",
    "        depth_list.append(current_depth)\n",
    "    return depth_list"
   ]
  },
  {
   "cell_type": "code",
   "execution_count": 3,
   "metadata": {},
   "outputs": [],
   "source": [
    "length = []\n",
    "dist = []\n",
    "with data_dir.open(mode='r') as f:\n",
    "    data = csv.reader(f,delimiter='\\t')\n",
    "    col = next(data)\n",
    "    for row in data:\n",
    "        depth = get_depth(row[0])\n",
    "        dist.append(max(depth))\n",
    "        length.append(len(row[0]))"
   ]
  },
  {
   "cell_type": "code",
   "execution_count": 4,
   "metadata": {},
   "outputs": [
    {
     "data": {
      "text/plain": [
       "(array([2.79090e+04, 1.86668e+05, 6.29200e+04, 1.98650e+04, 3.19500e+03,\n",
       "        1.21500e+03, 2.81000e+02, 3.90000e+01, 3.70000e+01, 2.00000e+00]),\n",
       " array([ 0. ,  3.6,  7.2, 10.8, 14.4, 18. , 21.6, 25.2, 28.8, 32.4, 36. ]),\n",
       " <a list of 10 Patch objects>)"
      ]
     },
     "execution_count": 4,
     "metadata": {},
     "output_type": "execute_result"
    },
    {
     "data": {
      "image/png": "[encoded data removed]",
      "text/plain": [
       "<Figure size 432x288 with 1 Axes>"
      ]
     },
     "metadata": {
      "needs_background": "light"
     },
     "output_type": "display_data"
    }
   ],
   "source": [
    "plt.hist(dist)"
   ]
  },
  {
   "cell_type": "code",
   "execution_count": 5,
   "metadata": {},
   "outputs": [
    {
     "data": {
      "text/plain": [
       "(array([2.74511e+05, 2.45190e+04, 2.40600e+03, 5.15000e+02, 1.21000e+02,\n",
       "        3.10000e+01, 1.50000e+01, 6.00000e+00, 6.00000e+00, 1.00000e+00]),\n",
       " array([  12. ,  715.3, 1418.6, 2121.9, 2825.2, 3528.5, 4231.8, 4935.1,\n",
       "        5638.4, 6341.7, 7045. ]),\n",
       " <a list of 10 Patch objects>)"
      ]
     },
     "execution_count": 5,
     "metadata": {},
     "output_type": "execute_result"
    },
    {
     "data": {
      "image/png": "[encoded data removed]",
      "text/plain": [
       "<Figure size 432x288 with 1 Axes>"
      ]
     },
     "metadata": {
      "needs_background": "light"
     },
     "output_type": "display_data"
    }
   ],
   "source": [
    "plt.hist(length)"
   ]
  },
  {
   "cell_type": "code",
   "execution_count": null,
   "metadata": {},
   "outputs": [],
   "source": []
  }
 ],
 "metadata": {
  "hide_input": false,
  "kernelspec": {
   "display_name": "pytorch_p36",
   "language": "python",
   "name": "pytorch_p36"
  },
  "language_info": {
   "codemirror_mode": {
    "name": "ipython",
    "version": 3
   },
   "file_extension": ".py",
   "mimetype": "text/x-python",
   "name": "python",
   "nbconvert_exporter": "python",
   "pygments_lexer": "ipython3",
   "version": "3.6.8"
  },
  "toc": {
   "base_numbering": 1,
   "nav_menu": {},
   "number_sections": true,
   "sideBar": true,
   "skip_h1_title": false,
   "title_cell": "Table of Contents",
   "title_sidebar": "Contents",
   "toc_cell": false,
   "toc_position": {},
   "toc_section_display": true,
   "toc_window_display": false
  }
 },
 "nbformat": 4,
 "nbformat_minor": 4
}
