{
 "cells": [
  {
   "cell_type": "code",
   "execution_count": 1,
   "metadata": {},
   "outputs": [],
   "source": [
    "from config import DATA_DIR"
   ]
  },
  {
   "cell_type": "code",
   "execution_count": 54,
   "metadata": {},
   "outputs": [],
   "source": [
    "def clean(line):\n",
    "    return ' '.join(line.replace(' ','').split('▁')).replace('\\n','').replace('<eos>','')"
   ]
  },
  {
   "cell_type": "code",
   "execution_count": 76,
   "metadata": {},
   "outputs": [],
   "source": [
    "result_path = DATA_DIR / 'translation_log_False_9.txt'\n",
    "result = dict()\n",
    "count = 0\n",
    "result[0] = {}\n",
    "with result_path.open(mode='r',encoding='utf-8') as f:\n",
    "    for i, line in enumerate(f):\n",
    "        if i % 4 == 3:\n",
    "            count += 1\n",
    "            if count == 31416:\n",
    "                break \n",
    "            result[count] = {}\n",
    "        elif i % 4 == 0:\n",
    "            result[count]['formal'] = clean(line)\n",
    "        elif i % 4 == 1:\n",
    "            result[count]['original'] = clean(line)\n",
    "        elif i%4 == 2:\n",
    "            result[count]['result'] = clean(line)"
   ]
  },
  {
   "cell_type": "code",
   "execution_count": 70,
   "metadata": {},
   "outputs": [
    {
     "data": {
      "text/plain": [
       "31416"
      ]
     },
     "execution_count": 70,
     "metadata": {},
     "output_type": "execute_result"
    }
   ],
   "source": [
    "# Total number of validation data\n",
    "len(result)"
   ]
  },
  {
   "cell_type": "code",
   "execution_count": 71,
   "metadata": {},
   "outputs": [
    {
     "data": {
      "text/plain": [
       "{'formal': ' exists x0 . ( volleyball ( x0 ) & exists x1 . ( game ( x1 ) & ( x0 = x1 ) ) & exists x2 . ( mean ( x2 ) & legitimate ( x2 ) & exists e0 . ( work ( e0 ) & ( Subj ( e0 ) = x2 ) ) & ( x0 = x2 ) ) )',\n",
       " 'original': ' Volleyball is a game not a legitimate means of working out.',\n",
       " 'result': ' Volleyball of the game was a legitimate means working on.'}"
      ]
     },
     "execution_count": 71,
     "metadata": {},
     "output_type": "execute_result"
    }
   ],
   "source": [
    "# example\n",
    "result[0]"
   ]
  },
  {
   "cell_type": "code",
   "execution_count": 72,
   "metadata": {},
   "outputs": [
    {
     "name": "stdout",
     "output_type": "stream",
     "text": [
      "Perfect match percentage is  13.652279093455563\n"
     ]
    }
   ],
   "source": [
    "perfect_match = 0\n",
    "for v in result.values():\n",
    "    if v['original'] == v['result']:\n",
    "        perfect_match += 1\n",
    "\n",
    "print('Perfect match percentage is ',perfect_match / len(result) * 100)"
   ]
  },
  {
   "cell_type": "code",
   "execution_count": 81,
   "metadata": {},
   "outputs": [
    {
     "name": "stdout",
     "output_type": "stream",
     "text": [
      "The del percentage is  8.759867583396995\n"
     ]
    }
   ],
   "source": [
    "# The model deletes 'the' \n",
    "the_del = 0\n",
    "for v in result.values():\n",
    "    if 'the' in v['original'].lower() and 'the' not in v['result'].lower():\n",
    "        the_del += 1\n",
    "\n",
    "print('The del percentage is ',the_del / len(result) * 100)"
   ]
  },
  {
   "cell_type": "code",
   "execution_count": 82,
   "metadata": {},
   "outputs": [
    {
     "name": "stdout",
     "output_type": "stream",
     "text": [
      "The del percentage is  10.376878023936847\n"
     ]
    }
   ],
   "source": [
    "# The model adds 'the'\n",
    "the_add = 0\n",
    "for v in result.values():\n",
    "    if 'the' not in v['original'].lower() and 'the' in v['result'].lower():\n",
    "        the_add += 1\n",
    "\n",
    "print('The del percentage is ',the_add / len(result) * 100)"
   ]
  },
  {
   "cell_type": "code",
   "execution_count": null,
   "metadata": {},
   "outputs": [],
   "source": []
  }
 ],
 "metadata": {
  "kernelspec": {
   "display_name": "torch_p37",
   "language": "python",
   "name": "torch_p37"
  },
  "language_info": {
   "codemirror_mode": {
    "name": "ipython",
    "version": 3
   },
   "file_extension": ".py",
   "mimetype": "text/x-python",
   "name": "python",
   "nbconvert_exporter": "python",
   "pygments_lexer": "ipython3",
   "version": "3.7.7"
  }
 },
 "nbformat": 4,
 "nbformat_minor": 4
}
